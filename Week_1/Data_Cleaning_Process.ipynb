{
 "cells": [
  {
   "cell_type": "markdown",
   "metadata": {},
   "source": [
    "## Data Cleaning Process\n",
    "\n",
    "This is a part of Exploratory Data Analysis for Machine Learning Course offered by IBM from Coursera."
   ]
  },
  {
   "cell_type": "markdown",
   "metadata": {},
   "source": [
    "## The main data problems companies face:\n",
    "- Lack of Data\n",
    "- Too much Data\n",
    "- Bad Data"
   ]
  },
  {
   "cell_type": "markdown",
   "metadata": {},
   "source": [
    "## How data can be messy\n",
    "\n",
    "- Duplicate or unnecessary data \n",
    "- Inconsisten text and typos\n",
    "- Missing data\n",
    "- Outliers\n",
    "- Data Sourcing issues\n",
    "  - Multiple systems\n",
    "  - Different database systems"
   ]
  },
  {
   "cell_type": "markdown",
   "metadata": {},
   "source": [
    "#### Duplicate or Unneccesary data \n",
    "\n",
    "Its a good practice to filter the data as necessary."
   ]
  },
  {
   "cell_type": "markdown",
   "metadata": {},
   "source": [
    "## Policies for Missing data\n",
    "\n",
    "Remove the data: remove the row entirely\n",
    "Impute the data: replace with substituted values. \n",
    "Mask the data: create a category for missing values.\n",
    "\n"
   ]
  },
  {
   "cell_type": "markdown",
   "metadata": {},
   "source": [
    "# Outliers\n",
    "\n",
    "An outlier is an observation in data that is distant from most other observations.\n",
    "\n",
    "It is important to remember that some outliers are informative and provide insights in the data\n",
    "\n",
    "### How to find Outliers?\n",
    "\n",
    "We can use plots, histogram to find Outliers\n"
   ]
  },
  {
   "cell_type": "markdown",
   "metadata": {},
   "source": [
    "## Residuals\n",
    "\n",
    "Residuals represent model failure(difference between actual and predicted values)\n",
    "\n",
    "Approaches to calculating residuals\n",
    "\n",
    "- Standardized: residual divided by standard error\n",
    "- Deleted: residual from fitting model on all data excluding current observation\n",
    "- Studentized: Deleted residuals divided by residual standard error"
   ]
  },
  {
   "cell_type": "markdown",
   "metadata": {},
   "source": [
    "## Policies for Outliers\n",
    "\n",
    "Remove them\n",
    "Assign the mean or median value\n",
    "Transfor the variable\n",
    "Predict the what the value should be"
   ]
  }
 ],
 "metadata": {
  "kernelspec": {
   "display_name": "Python 3",
   "language": "python",
   "name": "python3"
  },
  "language_info": {
   "codemirror_mode": {
    "name": "ipython",
    "version": 3
   },
   "file_extension": ".py",
   "mimetype": "text/x-python",
   "name": "python",
   "nbconvert_exporter": "python",
   "pygments_lexer": "ipython3",
   "version": "3.8.3"
  }
 },
 "nbformat": 4,
 "nbformat_minor": 4
}
